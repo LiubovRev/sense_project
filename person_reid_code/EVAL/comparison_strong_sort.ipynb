{
 "cells": [
  {
   "cell_type": "code",
   "id": "initial_id",
   "metadata": {
    "collapsed": true,
    "ExecuteTime": {
     "end_time": "2024-10-13T07:27:35.305705Z",
     "start_time": "2024-10-13T07:27:34.838623Z"
    }
   },
   "source": [
    "'''This script is designed to take the labels from randomly selected videos which have been processed by strong sort, and compare the number of unique IDs detected\n",
    "by strong sort with the ground truth for those videos.'''\n",
    "\n",
    "\n",
    "import pandas as pd\n",
    "import os\n",
    "results_dir = '/home/GitHub/Psych_ML/person_reidentification/StrongSORT-YOLO/runs/track'\n",
    "video_dirs = os.listdir(results_dir)\n",
    "\n",
    "column_names = ['frame', 'class', 'object_id', 'bbox_left', 'bbox_top', 'bbox_width', 'bbox_height']\n",
    "\n",
    "video_ground_truth = {\n",
    "    '15-5-2024_#20_INDIVIDUAL_[15]': 2,\n",
    "    '11-1-2024_#7_INDIVIDUAL_[14]': 2,\n",
    "    '8-5-2024_#18_INDIVIDUAL_[12]': 3,\n",
    "    '22-5-2024_#20_INDIVIDUAL_[12]': 3,\n",
    "    '21-5-2024_#22_GROUP_[9-20]': 4,\n",
    "    '12-3-2024_#15_GROUP_[10-17]': 4,\n",
    "    '9-11-2023_#1_GROUP_[3-1]': 5,\n",
    "    '20-2-2024_#12_GROUP_[9-20]': 5\n",
    "}\n",
    "\n",
    "for video_dir in video_dirs:\n",
    "    files = os.listdir(os.path.join(results_dir, video_dir))\n",
    "    for file in files:\n",
    "        if 'labels' in file:\n",
    "            label_folder = os.path.join(results_dir, video_dir, file)\n",
    "            label_files = os.listdir(label_folder)\n",
    "            for label_file in label_files:\n",
    "                if label_file.endswith('.txt'):\n",
    "                    label_file_path = os.path.join(label_folder, label_file)\n",
    "                    df = pd.read_csv(\n",
    "                        label_file_path, \n",
    "                        delim_whitespace=True,  # Delimited by spaces\n",
    "                        header=None,  # No header in the file\n",
    "                        usecols=[0, 1, 2, 3, 4, 5, 6],  # Select only relevant columns\n",
    "                        names=column_names  # Assign column names\n",
    "                    )\n",
    "            \n",
    "                    df_person = df[df['class'] == 0]        \n",
    "                    # Find the number of unique object IDs for class 0 (persons)\n",
    "                    unique_ids = df_person['object_id'].nunique()\n",
    "                    \n",
    "                    ground_truth = video_ground_truth.get(video_dir, 'Unknown')\n",
    "\n",
    "                    # Print the number of unique IDs and ground truth\n",
    "                    print(f\"Video folder: {video_dir}\")\n",
    "                    print(f\"Ground truth number of people: {ground_truth}\")\n",
    "                    print(f\"Detected unique person IDs: {unique_ids}\\n\")"
   ],
   "outputs": [
    {
     "name": "stdout",
     "output_type": "stream",
     "text": [
      "Video folder: 20-2-2024_#12_GROUP_[9-20]\n",
      "Ground truth number of people: 5\n",
      "Detected unique person IDs: 13\n",
      "\n",
      "Video folder: 12-3-2024_#15_GROUP_[10-17]\n",
      "Ground truth number of people: 4\n",
      "Detected unique person IDs: 14\n",
      "\n",
      "Video folder: 21-5-2024_#22_GROUP_[9-20]\n",
      "Ground truth number of people: 4\n",
      "Detected unique person IDs: 10\n",
      "\n",
      "Video folder: 15-5-2024_#20_INDIVIDUAL_[15]\n",
      "Ground truth number of people: 2\n",
      "Detected unique person IDs: 6\n",
      "\n",
      "Video folder: 8-5-2024_#18_INDIVIDUAL_[12]\n",
      "Ground truth number of people: 3\n",
      "Detected unique person IDs: 8\n",
      "\n",
      "Video folder: 22-5-2024_#20_INDIVIDUAL_[12]\n",
      "Ground truth number of people: 3\n",
      "Detected unique person IDs: 9\n",
      "\n",
      "Video folder: 9-11-2023_#1_GROUP_[3-1]\n",
      "Ground truth number of people: 5\n",
      "Detected unique person IDs: 11\n",
      "\n",
      "Video folder: 11-1-2024_#7_INDIVIDUAL_[14]\n",
      "Ground truth number of people: 2\n",
      "Detected unique person IDs: 7\n",
      "\n"
     ]
    }
   ],
   "execution_count": 11
  },
  {
   "metadata": {
    "ExecuteTime": {
     "end_time": "2024-10-13T07:17:39.529592Z",
     "start_time": "2024-10-13T07:17:39.526735Z"
    }
   },
   "cell_type": "code",
   "source": [
    "\n",
    "            \n",
    "            \n",
    "            "
   ],
   "id": "4fb4c0e40753b8b6",
   "outputs": [
    {
     "name": "stdout",
     "output_type": "stream",
     "text": [
      "['labels', 'camera_a_with_ids_openpose.mp4']\n",
      "['labels', 'camera_a_with_ids_openpose.mp4']\n",
      "['labels', 'camera_a_with_ids_openpose.mp4']\n",
      "['labels', 'camera_b.mkv']\n",
      "['labels', 'camera_a_with_ids_openpose.mp4']\n",
      "['labels', 'camera_a_with_ids_openpose.mp4']\n",
      "['labels', 'camera_a_with_ids_openpose.mp4']\n",
      "['labels', 'camera_a_with_ids_openpose.mp4']\n"
     ]
    }
   ],
   "execution_count": 5
  },
  {
   "metadata": {},
   "cell_type": "code",
   "outputs": [],
   "execution_count": null,
   "source": "",
   "id": "b04c6969e732d7b1"
  }
 ],
 "metadata": {
  "kernelspec": {
   "display_name": "Python 3",
   "language": "python",
   "name": "python3"
  },
  "language_info": {
   "codemirror_mode": {
    "name": "ipython",
    "version": 2
   },
   "file_extension": ".py",
   "mimetype": "text/x-python",
   "name": "python",
   "nbconvert_exporter": "python",
   "pygments_lexer": "ipython2",
   "version": "2.7.6"
  }
 },
 "nbformat": 4,
 "nbformat_minor": 5
}
