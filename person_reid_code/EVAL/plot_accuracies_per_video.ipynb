{
 "cells": [
  {
   "cell_type": "code",
   "id": "initial_id",
   "metadata": {
    "collapsed": true
   },
   "source": [
    "import pandas as pd\n",
    "import matplotlib.pyplot as plt\n",
    "import seaborn as sns\n",
    "import matplotlib.lines as mlines\n",
    "import numpy as np\n",
    "# Read the CSV file\n",
    "df = pd.read_csv('per_video_accuracies_with_samples.csv')\n",
    "# Sort the DataFrame by accuracy (low to high) while preserving the 'N' grouping\n",
    "df = df.sort_values(by=['N', 'accuracy'])\n",
    "\n",
    "n5_vids = (np.unique(df[df.N == 5]['video_path'].values))\n",
    "for n5_vid in n5_vids:\n",
    "    print((df[df.video_path == n5_vid]))\n",
    "    \n",
    "n4_vids = (np.unique(df[df.N == 4]['video_path'].values))\n",
    "for n4_vid in n4_vids:\n",
    "    print((df[df.video_path == n4_vid]))\n",
    "    \n",
    "n3_vids = (np.unique(df[df.N == 3]['video_path'].values))\n",
    "for n3_vid in n3_vids:\n",
    "    print((df[df.video_path == n3_vid]))\n",
    "    \n",
    "n2_vids = (np.unique(df[df.N == 2]['video_path'].values))\n",
    "for n2_vid in n2_vids:\n",
    "    print((df[df.video_path == n2_vid]))\n",
    "\n",
    "plt.figure(figsize=(7, 5))\n",
    "\n",
    "# Unique N values\n",
    "unique_N = sorted(df['N'].unique())\n",
    "\n",
    "# Prepare data for box plots\n",
    "data_for_boxplots = [df[df['N'] == n]['accuracy'] for n in unique_N]\n",
    "\n",
    "# Create the boxplot\n",
    "boxplot = plt.boxplot(\n",
    "    data_for_boxplots,\n",
    "    positions=unique_N,\n",
    "    widths=0.5,\n",
    "    patch_artist=True,\n",
    "    showmeans=False,  # Disable mean display\n",
    "    showcaps=True,\n",
    "    showfliers=False,\n",
    "    boxprops=dict(facecolor='lightgrey', color='black', alpha=0.3),\n",
    "    medianprops=dict(color='red', linewidth=2),  # Customize median line\n",
    "    whiskerprops=dict(color='black'),\n",
    "    capprops=dict(color='black')\n",
    ")\n",
    "\n",
    "\n",
    "# Overlay the scatter plot for individual points\n",
    "for video_path in df['video_path'].unique():\n",
    "    subset = df[df['video_path'] == video_path]\n",
    "    plt.scatter(subset['N'], subset['accuracy'], alpha=1, color='blue')\n",
    "\n",
    "# Set xticks to match the unique values of 'N'\n",
    "plt.xticks(unique_N)\n",
    "\n",
    "# Customize the labels\n",
    "plt.xlabel('N (Number of People)', fontsize=12)\n",
    "plt.ylabel('Accuracy', fontsize=12)\n",
    "\n",
    "# Adjust layout to ensure nothing is cut off\n",
    "plt.tight_layout()\n",
    "\n",
    "median_legend = mlines.Line2D([], [], color='red', linestyle='-', label='Median')\n",
    "\n",
    "# Add the custom legend\n",
    "plt.legend(handles=[median_legend])\n",
    "\n",
    "\n",
    "# Save the figure\n",
    "plt.savefig('plots/plot_accuracies_with_box_scatter_matplotlib.png', dpi=150, bbox_inches='tight')\n",
    "\n",
    "# Show the plot\n",
    "plt.show()"
   ],
   "outputs": [],
   "execution_count": null
  },
  {
   "metadata": {},
   "cell_type": "code",
   "source": [
    "\n",
    "median_values = [line.get_ydata()[0] for line in boxplot['medians']]"
   ],
   "id": "83a3feb1a2567354",
   "outputs": [],
   "execution_count": null
  },
  {
   "metadata": {},
   "cell_type": "code",
   "source": "median_values",
   "id": "cfbdd30dbddae15",
   "outputs": [],
   "execution_count": null
  },
  {
   "metadata": {},
   "cell_type": "code",
   "source": "",
   "id": "d77ec338b54bf207",
   "outputs": [],
   "execution_count": null
  }
 ],
 "metadata": {
  "kernelspec": {
   "display_name": "Python 3",
   "language": "python",
   "name": "python3"
  },
  "language_info": {
   "codemirror_mode": {
    "name": "ipython",
    "version": 2
   },
   "file_extension": ".py",
   "mimetype": "text/x-python",
   "name": "python",
   "nbconvert_exporter": "python",
   "pygments_lexer": "ipython2",
   "version": "2.7.6"
  }
 },
 "nbformat": 4,
 "nbformat_minor": 5
}
