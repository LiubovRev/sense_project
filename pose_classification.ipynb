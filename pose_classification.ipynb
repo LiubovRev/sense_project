{
 "cells": [
  {
   "cell_type": "code",
   "execution_count": null,
   "id": "296a976f",
   "metadata": {},
   "outputs": [],
   "source": [
    "import json\n",
    "import pandas as pd\n",
    "import numpy as np\n",
    "import matplotlib.pyplot as plt\n",
    "import seaborn as sns\n",
    "\n",
    "from sklearn.cluster import KMeans\n",
    "from sklearn.decomposition import PCA\n",
    "from sklearn.preprocessing import StandardScaler\n",
    "\n",
    "import warnings\n",
    "warnings.filterwarnings('ignore')\n"
   ]
  },
  {
   "cell_type": "markdown",
   "id": "c827edfc",
   "metadata": {},
   "source": [
    "### Clustering with KMeans"
   ]
  },
  {
   "cell_type": "code",
   "execution_count": 142,
   "id": "cabf2f8b",
   "metadata": {},
   "outputs": [
    {
     "data": {
      "text/html": [
       "<div>\n",
       "<style scoped>\n",
       "    .dataframe tbody tr th:only-of-type {\n",
       "        vertical-align: middle;\n",
       "    }\n",
       "\n",
       "    .dataframe tbody tr th {\n",
       "        vertical-align: top;\n",
       "    }\n",
       "\n",
       "    .dataframe thead th {\n",
       "        text-align: right;\n",
       "    }\n",
       "</style>\n",
       "<table border=\"1\" class=\"dataframe\">\n",
       "  <thead>\n",
       "    <tr style=\"text-align: right;\">\n",
       "      <th></th>\n",
       "      <th>X_Background</th>\n",
       "      <th>X_LAnkle</th>\n",
       "      <th>X_LBigToe</th>\n",
       "      <th>X_LEar</th>\n",
       "      <th>X_LElbow</th>\n",
       "      <th>X_LEye</th>\n",
       "      <th>X_LHeel</th>\n",
       "      <th>X_LHip</th>\n",
       "      <th>X_LKnee</th>\n",
       "      <th>X_LShoulder</th>\n",
       "      <th>...</th>\n",
       "      <th>Y_RBigToe</th>\n",
       "      <th>Y_REar</th>\n",
       "      <th>Y_RElbow</th>\n",
       "      <th>Y_REye</th>\n",
       "      <th>Y_RHeel</th>\n",
       "      <th>Y_RHip</th>\n",
       "      <th>Y_RKnee</th>\n",
       "      <th>Y_RShoulder</th>\n",
       "      <th>Y_RSmallToe</th>\n",
       "      <th>Y_RWrist</th>\n",
       "    </tr>\n",
       "    <tr>\n",
       "      <th>Frame</th>\n",
       "      <th></th>\n",
       "      <th></th>\n",
       "      <th></th>\n",
       "      <th></th>\n",
       "      <th></th>\n",
       "      <th></th>\n",
       "      <th></th>\n",
       "      <th></th>\n",
       "      <th></th>\n",
       "      <th></th>\n",
       "      <th></th>\n",
       "      <th></th>\n",
       "      <th></th>\n",
       "      <th></th>\n",
       "      <th></th>\n",
       "      <th></th>\n",
       "      <th></th>\n",
       "      <th></th>\n",
       "      <th></th>\n",
       "      <th></th>\n",
       "      <th></th>\n",
       "    </tr>\n",
       "  </thead>\n",
       "  <tbody>\n",
       "    <tr>\n",
       "      <th>62</th>\n",
       "      <td>446.51364</td>\n",
       "      <td>395.94577</td>\n",
       "      <td>460.27704</td>\n",
       "      <td>416.21960</td>\n",
       "      <td>423.62347</td>\n",
       "      <td>416.35920</td>\n",
       "      <td>456.22820</td>\n",
       "      <td>390.44400</td>\n",
       "      <td>447.98980</td>\n",
       "      <td>425.88098</td>\n",
       "      <td>...</td>\n",
       "      <td>197.89607</td>\n",
       "      <td>199.16190</td>\n",
       "      <td>94.596460</td>\n",
       "      <td>187.47496</td>\n",
       "      <td>157.84230</td>\n",
       "      <td>106.939644</td>\n",
       "      <td>107.61823</td>\n",
       "      <td>95.820720</td>\n",
       "      <td>151.19637</td>\n",
       "      <td>98.068886</td>\n",
       "    </tr>\n",
       "    <tr>\n",
       "      <th>63</th>\n",
       "      <td>447.24280</td>\n",
       "      <td>396.01770</td>\n",
       "      <td>460.73782</td>\n",
       "      <td>416.21204</td>\n",
       "      <td>423.48914</td>\n",
       "      <td>416.34390</td>\n",
       "      <td>456.88490</td>\n",
       "      <td>390.66760</td>\n",
       "      <td>448.15080</td>\n",
       "      <td>425.76130</td>\n",
       "      <td>...</td>\n",
       "      <td>197.88039</td>\n",
       "      <td>199.36084</td>\n",
       "      <td>95.014984</td>\n",
       "      <td>187.70726</td>\n",
       "      <td>158.56786</td>\n",
       "      <td>107.199326</td>\n",
       "      <td>107.85085</td>\n",
       "      <td>96.132850</td>\n",
       "      <td>152.29877</td>\n",
       "      <td>98.293980</td>\n",
       "    </tr>\n",
       "    <tr>\n",
       "      <th>64</th>\n",
       "      <td>447.24344</td>\n",
       "      <td>396.02680</td>\n",
       "      <td>461.97952</td>\n",
       "      <td>416.62744</td>\n",
       "      <td>423.47894</td>\n",
       "      <td>416.44350</td>\n",
       "      <td>458.33725</td>\n",
       "      <td>390.68436</td>\n",
       "      <td>448.58330</td>\n",
       "      <td>425.75363</td>\n",
       "      <td>...</td>\n",
       "      <td>197.86183</td>\n",
       "      <td>199.76929</td>\n",
       "      <td>95.143290</td>\n",
       "      <td>187.99518</td>\n",
       "      <td>158.30382</td>\n",
       "      <td>107.470140</td>\n",
       "      <td>108.26997</td>\n",
       "      <td>96.309580</td>\n",
       "      <td>151.80446</td>\n",
       "      <td>98.695076</td>\n",
       "    </tr>\n",
       "    <tr>\n",
       "      <th>66</th>\n",
       "      <td>450.00043</td>\n",
       "      <td>396.46722</td>\n",
       "      <td>463.06332</td>\n",
       "      <td>416.84540</td>\n",
       "      <td>423.43295</td>\n",
       "      <td>416.88837</td>\n",
       "      <td>459.54040</td>\n",
       "      <td>390.74228</td>\n",
       "      <td>449.06265</td>\n",
       "      <td>425.73196</td>\n",
       "      <td>...</td>\n",
       "      <td>198.60430</td>\n",
       "      <td>202.32072</td>\n",
       "      <td>95.055466</td>\n",
       "      <td>190.42198</td>\n",
       "      <td>158.24200</td>\n",
       "      <td>107.562096</td>\n",
       "      <td>108.57880</td>\n",
       "      <td>96.251144</td>\n",
       "      <td>150.93953</td>\n",
       "      <td>98.844574</td>\n",
       "    </tr>\n",
       "    <tr>\n",
       "      <th>67</th>\n",
       "      <td>450.64420</td>\n",
       "      <td>396.80057</td>\n",
       "      <td>463.44098</td>\n",
       "      <td>417.07205</td>\n",
       "      <td>423.42294</td>\n",
       "      <td>417.20706</td>\n",
       "      <td>459.99730</td>\n",
       "      <td>390.75336</td>\n",
       "      <td>449.42767</td>\n",
       "      <td>425.72100</td>\n",
       "      <td>...</td>\n",
       "      <td>199.26654</td>\n",
       "      <td>202.88990</td>\n",
       "      <td>95.176680</td>\n",
       "      <td>191.10252</td>\n",
       "      <td>158.60226</td>\n",
       "      <td>107.753180</td>\n",
       "      <td>108.82244</td>\n",
       "      <td>96.399190</td>\n",
       "      <td>151.20506</td>\n",
       "      <td>99.080060</td>\n",
       "    </tr>\n",
       "  </tbody>\n",
       "</table>\n",
       "<p>5 rows × 52 columns</p>\n",
       "</div>"
      ],
      "text/plain": [
       "       X_Background   X_LAnkle  X_LBigToe     X_LEar   X_LElbow     X_LEye  \\\n",
       "Frame                                                                        \n",
       "62        446.51364  395.94577  460.27704  416.21960  423.62347  416.35920   \n",
       "63        447.24280  396.01770  460.73782  416.21204  423.48914  416.34390   \n",
       "64        447.24344  396.02680  461.97952  416.62744  423.47894  416.44350   \n",
       "66        450.00043  396.46722  463.06332  416.84540  423.43295  416.88837   \n",
       "67        450.64420  396.80057  463.44098  417.07205  423.42294  417.20706   \n",
       "\n",
       "         X_LHeel     X_LHip    X_LKnee  X_LShoulder  ...  Y_RBigToe  \\\n",
       "Frame                                                ...              \n",
       "62     456.22820  390.44400  447.98980    425.88098  ...  197.89607   \n",
       "63     456.88490  390.66760  448.15080    425.76130  ...  197.88039   \n",
       "64     458.33725  390.68436  448.58330    425.75363  ...  197.86183   \n",
       "66     459.54040  390.74228  449.06265    425.73196  ...  198.60430   \n",
       "67     459.99730  390.75336  449.42767    425.72100  ...  199.26654   \n",
       "\n",
       "          Y_REar   Y_RElbow     Y_REye    Y_RHeel      Y_RHip    Y_RKnee  \\\n",
       "Frame                                                                      \n",
       "62     199.16190  94.596460  187.47496  157.84230  106.939644  107.61823   \n",
       "63     199.36084  95.014984  187.70726  158.56786  107.199326  107.85085   \n",
       "64     199.76929  95.143290  187.99518  158.30382  107.470140  108.26997   \n",
       "66     202.32072  95.055466  190.42198  158.24200  107.562096  108.57880   \n",
       "67     202.88990  95.176680  191.10252  158.60226  107.753180  108.82244   \n",
       "\n",
       "       Y_RShoulder  Y_RSmallToe   Y_RWrist  \n",
       "Frame                                       \n",
       "62       95.820720    151.19637  98.068886  \n",
       "63       96.132850    152.29877  98.293980  \n",
       "64       96.309580    151.80446  98.695076  \n",
       "66       96.251144    150.93953  98.844574  \n",
       "67       96.399190    151.20506  99.080060  \n",
       "\n",
       "[5 rows x 52 columns]"
      ]
     },
     "execution_count": 142,
     "metadata": {},
     "output_type": "execute_result"
    }
   ],
   "source": [
    "# ´Patient 1´\n",
    "\n",
    "# /home/liubov/Bureau/new/8-5-2024_#18_INDIVIDUAL_[12]/processed by chunks/PosesDir/new_jsons_merged_id_1.json\n",
    "# %run /home/liubov/Bureau/feature_extraction/analyze_joint_variance.py\n",
    "joint_positions = pd.read_csv(\"joint_positions.csv\")\n",
    "\n",
    "# Create a mapping dictionary\n",
    "patient_rename_map = {\n",
    "    'Patient1': 'Patient_1',\n",
    "    'Patient2': 'Therapist_1',\n",
    "    'Patient3': 'Therapist_2'\n",
    "}\n",
    "\n",
    "# Apply the renaming to the 'Patient' column\n",
    "joint_positions['Patient'] = joint_positions['Patient'].replace(patient_rename_map)\n",
    "\n",
    "\n",
    "joint_positions_patient1 = joint_positions[joint_positions.Patient=='Patient_1']\n",
    "# # Pivot to get features: one row per frame, one column per joint/coordinate\n",
    "df_pivot = joint_positions_patient1.pivot_table(\n",
    "    index='Frame',\n",
    "    columns='Joint',\n",
    "    values=['X', 'Y']\n",
    ")\n",
    "\n",
    "# # Flatten MultiIndex columns: ('X', 'LeftHip') → 'X_LeftHip'\n",
    "df_pivot.columns = [f\"{coord}_{joint}\" for coord, joint in df_pivot.columns]\n",
    "df_pivot = df_pivot.dropna()  # Remove frames with missing joints\n",
    "\n",
    "df_pivot.head()"
   ]
  },
  {
   "cell_type": "code",
   "execution_count": 143,
   "id": "843a6d7c",
   "metadata": {},
   "outputs": [],
   "source": [
    "# Normalize features\n",
    "scaler = StandardScaler()\n",
    "X_scaled = scaler.fit_transform(df_pivot)\n",
    "\n",
    "# Run KMeans\n",
    "kmeans = KMeans(n_clusters=2, random_state=42)\n",
    "df_pivot['Cluster'] = kmeans.fit_predict(X_scaled)"
   ]
  },
  {
   "cell_type": "code",
   "execution_count": 144,
   "id": "4510c89f",
   "metadata": {},
   "outputs": [
    {
     "data": {
      "image/png": "[encoded data removed]",
      "text/plain": [
       "<Figure size 864x144 with 1 Axes>"
      ]
     },
     "metadata": {
      "needs_background": "light"
     },
     "output_type": "display_data"
    }
   ],
   "source": [
    "# Cluster assignments over time\n",
    "plt.figure(figsize=(12, 2))\n",
    "sns.scatterplot(x=df_pivot.index, y=[1]*len(df_pivot), hue=df_pivot['Cluster'], palette='Set1', s=50)\n",
    "plt.title(\"Cluster assignment over time (frames)\")\n",
    "plt.yticks([])\n",
    "plt.xlabel(\"Frame Index\")\n",
    "plt.legend(title=\"Cluster\")\n",
    "plt.show()"
   ]
  },
  {
   "cell_type": "code",
   "execution_count": 145,
   "id": "c15d37da",
   "metadata": {
    "scrolled": false
   },
   "outputs": [
    {
     "data": {
      "image/png": "[encoded data removed]",
      "text/plain": [
       "<Figure size 432x432 with 1 Axes>"
      ]
     },
     "metadata": {
      "needs_background": "light"
     },
     "output_type": "display_data"
    }
   ],
   "source": [
    "# PCA projection\n",
    "\n",
    "pca = PCA(n_components=2)\n",
    "X_pca = pca.fit_transform(X_scaled)\n",
    "\n",
    "plt.figure(figsize=(6, 6))\n",
    "sns.scatterplot(x=X_pca[:, 0], y=X_pca[:, 1], hue=df_pivot['Cluster'], palette='Set1')\n",
    "plt.title(\"PCA Projection of Clusters\")\n",
    "plt.xlabel(\"PC1\")\n",
    "plt.ylabel(\"PC2\")\n",
    "plt.show()\n"
   ]
  },
  {
   "cell_type": "code",
   "execution_count": 146,
   "id": "f0638813",
   "metadata": {},
   "outputs": [
    {
     "data": {
      "text/html": [
       "<div>\n",
       "<style scoped>\n",
       "    .dataframe tbody tr th:only-of-type {\n",
       "        vertical-align: middle;\n",
       "    }\n",
       "\n",
       "    .dataframe tbody tr th {\n",
       "        vertical-align: top;\n",
       "    }\n",
       "\n",
       "    .dataframe thead th {\n",
       "        text-align: right;\n",
       "    }\n",
       "</style>\n",
       "<table border=\"1\" class=\"dataframe\">\n",
       "  <thead>\n",
       "    <tr style=\"text-align: right;\">\n",
       "      <th></th>\n",
       "      <th>Y_Background</th>\n",
       "      <th>Y_LAnkle</th>\n",
       "      <th>Y_LBigToe</th>\n",
       "      <th>Y_LEar</th>\n",
       "      <th>Y_LElbow</th>\n",
       "      <th>Y_LEye</th>\n",
       "      <th>Y_LHeel</th>\n",
       "      <th>Y_LHip</th>\n",
       "      <th>Y_LKnee</th>\n",
       "      <th>Y_LShoulder</th>\n",
       "      <th>...</th>\n",
       "      <th>Y_RBigToe</th>\n",
       "      <th>Y_REar</th>\n",
       "      <th>Y_RElbow</th>\n",
       "      <th>Y_REye</th>\n",
       "      <th>Y_RHeel</th>\n",
       "      <th>Y_RHip</th>\n",
       "      <th>Y_RKnee</th>\n",
       "      <th>Y_RShoulder</th>\n",
       "      <th>Y_RSmallToe</th>\n",
       "      <th>Y_RWrist</th>\n",
       "    </tr>\n",
       "    <tr>\n",
       "      <th>Cluster</th>\n",
       "      <th></th>\n",
       "      <th></th>\n",
       "      <th></th>\n",
       "      <th></th>\n",
       "      <th></th>\n",
       "      <th></th>\n",
       "      <th></th>\n",
       "      <th></th>\n",
       "      <th></th>\n",
       "      <th></th>\n",
       "      <th></th>\n",
       "      <th></th>\n",
       "      <th></th>\n",
       "      <th></th>\n",
       "      <th></th>\n",
       "      <th></th>\n",
       "      <th></th>\n",
       "      <th></th>\n",
       "      <th></th>\n",
       "      <th></th>\n",
       "      <th></th>\n",
       "    </tr>\n",
       "  </thead>\n",
       "  <tbody>\n",
       "    <tr>\n",
       "      <th>0</th>\n",
       "      <td>246.828086</td>\n",
       "      <td>145.480849</td>\n",
       "      <td>165.050736</td>\n",
       "      <td>175.498025</td>\n",
       "      <td>101.781110</td>\n",
       "      <td>164.350356</td>\n",
       "      <td>163.720013</td>\n",
       "      <td>112.133613</td>\n",
       "      <td>170.479326</td>\n",
       "      <td>102.92849</td>\n",
       "      <td>...</td>\n",
       "      <td>167.283663</td>\n",
       "      <td>170.469104</td>\n",
       "      <td>105.799066</td>\n",
       "      <td>168.167972</td>\n",
       "      <td>183.148648</td>\n",
       "      <td>115.693120</td>\n",
       "      <td>113.652274</td>\n",
       "      <td>105.777947</td>\n",
       "      <td>193.152794</td>\n",
       "      <td>104.001415</td>\n",
       "    </tr>\n",
       "    <tr>\n",
       "      <th>1</th>\n",
       "      <td>449.757729</td>\n",
       "      <td>302.385492</td>\n",
       "      <td>359.264985</td>\n",
       "      <td>340.836108</td>\n",
       "      <td>244.704958</td>\n",
       "      <td>325.779195</td>\n",
       "      <td>356.200929</td>\n",
       "      <td>258.278275</td>\n",
       "      <td>378.880847</td>\n",
       "      <td>247.49446</td>\n",
       "      <td>...</td>\n",
       "      <td>331.145796</td>\n",
       "      <td>374.150591</td>\n",
       "      <td>259.408644</td>\n",
       "      <td>366.737361</td>\n",
       "      <td>360.541066</td>\n",
       "      <td>273.392434</td>\n",
       "      <td>266.659119</td>\n",
       "      <td>257.981028</td>\n",
       "      <td>389.938200</td>\n",
       "      <td>250.125221</td>\n",
       "    </tr>\n",
       "  </tbody>\n",
       "</table>\n",
       "<p>2 rows × 26 columns</p>\n",
       "</div>"
      ],
      "text/plain": [
       "         Y_Background    Y_LAnkle   Y_LBigToe      Y_LEar    Y_LElbow  \\\n",
       "Cluster                                                                 \n",
       "0          246.828086  145.480849  165.050736  175.498025  101.781110   \n",
       "1          449.757729  302.385492  359.264985  340.836108  244.704958   \n",
       "\n",
       "             Y_LEye     Y_LHeel      Y_LHip     Y_LKnee  Y_LShoulder  ...  \\\n",
       "Cluster                                                               ...   \n",
       "0        164.350356  163.720013  112.133613  170.479326    102.92849  ...   \n",
       "1        325.779195  356.200929  258.278275  378.880847    247.49446  ...   \n",
       "\n",
       "          Y_RBigToe      Y_REar    Y_RElbow      Y_REye     Y_RHeel  \\\n",
       "Cluster                                                               \n",
       "0        167.283663  170.469104  105.799066  168.167972  183.148648   \n",
       "1        331.145796  374.150591  259.408644  366.737361  360.541066   \n",
       "\n",
       "             Y_RHip     Y_RKnee  Y_RShoulder  Y_RSmallToe    Y_RWrist  \n",
       "Cluster                                                                \n",
       "0        115.693120  113.652274   105.777947   193.152794  104.001415  \n",
       "1        273.392434  266.659119   257.981028   389.938200  250.125221  \n",
       "\n",
       "[2 rows x 26 columns]"
      ]
     },
     "execution_count": 146,
     "metadata": {},
     "output_type": "execute_result"
    }
   ],
   "source": [
    "df_pivot.groupby('Cluster').mean().filter(like='Y_')"
   ]
  },
  {
   "cell_type": "markdown",
   "id": "b5ca49df",
   "metadata": {},
   "source": [
    "- Cluster 0:\n",
    "\n",
    "Y values are smaller → body joints are higher in the image\n",
    "\n",
    "Hips ~112, knees ~170, shoulders ~102\n",
    "\n",
    "This suggests: person is **standing** (joints are upright, not compressed)\n",
    "\n",
    "- Cluster 1:\n",
    "\n",
    "Y values are larger → body joints are lower in the image\n",
    "\n",
    "Hips ~258, knees ~378, shoulders ~247\n",
    "\n",
    "This suggests: person is **sitting** (hips and knees are closer to the ground)"
   ]
  },
  {
   "cell_type": "code",
   "execution_count": null,
   "id": "ca275525",
   "metadata": {},
   "outputs": [],
   "source": []
  },
  {
   "cell_type": "code",
   "execution_count": 147,
   "id": "bdd55b94",
   "metadata": {
    "scrolled": false
   },
   "outputs": [
    {
     "name": "stdout",
     "output_type": "stream",
     "text": [
      "Processing patients/therapists: Patient_1\n"
     ]
    },
    {
     "data": {
      "image/png": "[encoded data removed]",
      "text/plain": [
       "<Figure size 432x288 with 1 Axes>"
      ]
     },
     "metadata": {
      "needs_background": "light"
     },
     "output_type": "display_data"
    },
    {
     "name": "stdout",
     "output_type": "stream",
     "text": [
      "Processing patients/therapists: Therapist_1\n"
     ]
    },
    {
     "data": {
      "image/png": "[encoded data removed]",
      "text/plain": [
       "<Figure size 432x288 with 1 Axes>"
      ]
     },
     "metadata": {
      "needs_background": "light"
     },
     "output_type": "display_data"
    },
    {
     "name": "stdout",
     "output_type": "stream",
     "text": [
      "Processing patients/therapists: Therapist_2\n"
     ]
    },
    {
     "data": {
      "image/png": "[encoded data removed]",
      "text/plain": [
       "<Figure size 432x288 with 1 Axes>"
      ]
     },
     "metadata": {
      "needs_background": "light"
     },
     "output_type": "display_data"
    },
    {
     "name": "stdout",
     "output_type": "stream",
     "text": [
      "     Patient  Frame      Pose\n",
      "0  Patient_1     62  Standing\n",
      "1  Patient_1     63  Standing\n",
      "2  Patient_1     64  Standing\n",
      "3  Patient_1     66  Standing\n",
      "4  Patient_1     67  Standing\n",
      "Pose\n",
      "Standing    525\n",
      "Sitting     123\n",
      "Name: count, dtype: int64\n"
     ]
    }
   ],
   "source": [
    "# Store results for all patients/therapists\n",
    "\n",
    "all_clustered_data = []\n",
    "\n",
    "# Loop over each patients/therapists\n",
    "for patient_id in joint_positions['Patient'].unique():\n",
    "    print(f\"Processing patients/therapists: {patient_id}\")\n",
    "    \n",
    "    df_patient = joint_positions[joint_positions['Patient'] == patient_id]\n",
    "\n",
    "    # Pivot to get one row per frame with all joint Y coordinates\n",
    "    df_pivot = df_patient.pivot_table(index='Frame', columns='Joint', values='Y')\n",
    "\n",
    "    df_pivot.columns = [f\"Y_{col}\" for col in df_pivot.columns]\n",
    "    df_pivot = df_pivot.dropna()\n",
    "\n",
    "    if df_pivot.empty:\n",
    "        print(f\"  - Skipping {patient_id}, not enough data.\")\n",
    "        continue\n",
    "\n",
    "    # Run PCA for visualization (optional)\n",
    "    pca = PCA(n_components=2)\n",
    "    pca_proj = pca.fit_transform(df_pivot)\n",
    "\n",
    "    # Cluster with KMeans\n",
    "    kmeans = KMeans(n_clusters=2, random_state=42)\n",
    "    df_pivot['Cluster'] = kmeans.fit_predict(df_pivot)\n",
    "\n",
    "    # Infer which cluster is \"Sitting\" vs \"Standing\" based on Y_Hip or mean Y\n",
    "    cluster_means = df_pivot.groupby('Cluster').mean()\n",
    "    standing_cluster = cluster_means.mean(axis=1).idxmin()  # Lower Y = higher = standing\n",
    "    sitting_cluster = cluster_means.mean(axis=1).idxmax()\n",
    "\n",
    "    cluster_to_pose = {\n",
    "        standing_cluster: 'Standing',\n",
    "        sitting_cluster: 'Sitting'\n",
    "    }\n",
    "\n",
    "    df_pivot['Pose'] = df_pivot['Cluster'].map(cluster_to_pose)\n",
    "    df_pivot['Patient'] = patient_id\n",
    "    df_pivot['Frame'] = df_pivot.index\n",
    "\n",
    "    all_clustered_data.append(df_pivot.reset_index(drop=True))\n",
    "\n",
    "    # Optional: Plot PCA\n",
    "    plt.figure(figsize=(6, 4))\n",
    "    plt.scatter(pca_proj[:, 0], pca_proj[:, 1], c=df_pivot['Cluster'], cmap='coolwarm', s=10)\n",
    "    plt.title(f'PCA Projection of Clusters - {patient_id}')\n",
    "    plt.xlabel('PC1')\n",
    "    plt.ylabel('PC2')\n",
    "    plt.show()\n",
    "\n",
    "# Concatenate all results into one DataFrame\n",
    "pose_clusters_all = pd.concat(all_clustered_data, ignore_index=True)\n",
    "\n",
    "# Preview\n",
    "print(pose_clusters_all[['Patient', 'Frame', 'Pose']].head())\n",
    "print(pose_clusters_all.Pose.value_counts())\n"
   ]
  },
  {
   "cell_type": "code",
   "execution_count": 148,
   "id": "29e63566",
   "metadata": {},
   "outputs": [],
   "source": [
    "pose_counts = pose_clusters_all.groupby(['Patient', 'Pose']).size().unstack(fill_value=0)\n",
    "\n",
    "# Optional: Normalize to get % time spent\n",
    "pose_ratios = pose_counts.div(pose_counts.sum(axis=1), axis=0) * 100"
   ]
  },
  {
   "cell_type": "code",
   "execution_count": 150,
   "id": "480f42c6",
   "metadata": {},
   "outputs": [
    {
     "data": {
      "image/png": "[encoded data removed]",
      "text/plain": [
       "<Figure size 1152x432 with 2 Axes>"
      ]
     },
     "metadata": {
      "needs_background": "light"
     },
     "output_type": "display_data"
    }
   ],
   "source": [
    "fig, axes = plt.subplots(1, 2, figsize=(16, 6), sharey=False)\n",
    "\n",
    "# --- Plot 1: Raw Counts ---\n",
    "pose_counts.plot(kind='bar', \n",
    "                 stacked=True, \n",
    "                 ax=axes[0], \n",
    "                 colormap='coolwarm')\n",
    "\n",
    "axes[0].set_title('Frames Spent in Each Pose per Object')\n",
    "axes[0].set_ylabel('Number of Frames')\n",
    "axes[0].set_xlabel('Object')\n",
    "axes[0].tick_params(axis='x', rotation=45)\n",
    "axes[0].legend(title='Pose')\n",
    "\n",
    "# --- Plot 2: Percentages ---\n",
    "pose_ratios.plot(kind='bar', \n",
    "                 stacked=True, \n",
    "                 ax=axes[1], \n",
    "                 colormap='coolwarm')\n",
    "\n",
    "axes[1].set_title('Time Spent in Each Pose per Object (%)')\n",
    "axes[1].set_ylabel('Percentage of Time')\n",
    "axes[1].set_xlabel('Object')\n",
    "axes[1].tick_params(axis='x', rotation=45)\n",
    "axes[1].legend(title='Pose', bbox_to_anchor=(1.05, 1), loc='upper left')\n",
    "\n",
    "plt.tight_layout()\n",
    "plt.show()\n"
   ]
  },
  {
   "cell_type": "code",
   "execution_count": 151,
   "id": "3adc87be",
   "metadata": {},
   "outputs": [
    {
     "data": {
      "text/plain": [
       "Index(['Y_Background', 'Y_LAnkle', 'Y_LBigToe', 'Y_LEar', 'Y_LElbow', 'Y_LEye',\n",
       "       'Y_LHeel', 'Y_LHip', 'Y_LKnee', 'Y_LShoulder', 'Y_LSmallToe',\n",
       "       'Y_LWrist', 'Y_MidHip', 'Y_Neck', 'Y_Nose', 'Y_RAnkle', 'Y_RBigToe',\n",
       "       'Y_REar', 'Y_RElbow', 'Y_REye', 'Y_RHeel', 'Y_RHip', 'Y_RKnee',\n",
       "       'Y_RShoulder', 'Y_RSmallToe', 'Y_RWrist', 'Cluster', 'Pose', 'Patient',\n",
       "       'Frame'],\n",
       "      dtype='object')"
      ]
     },
     "execution_count": 151,
     "metadata": {},
     "output_type": "execute_result"
    }
   ],
   "source": [
    "pose_clusters_all.columns"
   ]
  },
  {
   "cell_type": "code",
   "execution_count": 152,
   "id": "8b28839c",
   "metadata": {},
   "outputs": [
    {
     "data": {
      "text/html": [
       "<div>\n",
       "<style scoped>\n",
       "    .dataframe tbody tr th:only-of-type {\n",
       "        vertical-align: middle;\n",
       "    }\n",
       "\n",
       "    .dataframe tbody tr th {\n",
       "        vertical-align: top;\n",
       "    }\n",
       "\n",
       "    .dataframe thead th {\n",
       "        text-align: right;\n",
       "    }\n",
       "</style>\n",
       "<table border=\"1\" class=\"dataframe\">\n",
       "  <thead>\n",
       "    <tr style=\"text-align: right;\">\n",
       "      <th></th>\n",
       "      <th>Patient</th>\n",
       "      <th>Joint</th>\n",
       "      <th>Frame</th>\n",
       "      <th>X</th>\n",
       "      <th>Y</th>\n",
       "    </tr>\n",
       "  </thead>\n",
       "  <tbody>\n",
       "    <tr>\n",
       "      <th>0</th>\n",
       "      <td>Patient_1</td>\n",
       "      <td>Nose</td>\n",
       "      <td>5</td>\n",
       "      <td>436.66135</td>\n",
       "      <td>76.533104</td>\n",
       "    </tr>\n",
       "    <tr>\n",
       "      <th>1</th>\n",
       "      <td>Patient_1</td>\n",
       "      <td>Nose</td>\n",
       "      <td>6</td>\n",
       "      <td>436.66068</td>\n",
       "      <td>76.558914</td>\n",
       "    </tr>\n",
       "    <tr>\n",
       "      <th>2</th>\n",
       "      <td>Patient_1</td>\n",
       "      <td>Nose</td>\n",
       "      <td>7</td>\n",
       "      <td>436.50210</td>\n",
       "      <td>78.160120</td>\n",
       "    </tr>\n",
       "    <tr>\n",
       "      <th>3</th>\n",
       "      <td>Patient_1</td>\n",
       "      <td>Nose</td>\n",
       "      <td>8</td>\n",
       "      <td>436.44742</td>\n",
       "      <td>78.432010</td>\n",
       "    </tr>\n",
       "    <tr>\n",
       "      <th>4</th>\n",
       "      <td>Patient_1</td>\n",
       "      <td>Nose</td>\n",
       "      <td>9</td>\n",
       "      <td>436.44205</td>\n",
       "      <td>78.703476</td>\n",
       "    </tr>\n",
       "  </tbody>\n",
       "</table>\n",
       "</div>"
      ],
      "text/plain": [
       "     Patient Joint  Frame          X          Y\n",
       "0  Patient_1  Nose      5  436.66135  76.533104\n",
       "1  Patient_1  Nose      6  436.66068  76.558914\n",
       "2  Patient_1  Nose      7  436.50210  78.160120\n",
       "3  Patient_1  Nose      8  436.44742  78.432010\n",
       "4  Patient_1  Nose      9  436.44205  78.703476"
      ]
     },
     "execution_count": 152,
     "metadata": {},
     "output_type": "execute_result"
    }
   ],
   "source": [
    "joint_positions.head()"
   ]
  },
  {
   "cell_type": "code",
   "execution_count": 153,
   "id": "1b0b7ba0",
   "metadata": {},
   "outputs": [],
   "source": [
    "# Merge joint_positions with cluster+pose info from pose_clusters_all\n",
    "joint_positions_with_pose = joint_positions.merge(\n",
    "    pose_clusters_all[['Patient', 'Frame', 'Cluster', 'Pose']],\n",
    "    on=['Patient', 'Frame'],\n",
    "    how='left'  # keep all rows from joint_positions\n",
    ")\n",
    "# print(joint_positions_with_pose.Pose.isna().sum())\n",
    "# print(len(joint_positions_with_pose))"
   ]
  },
  {
   "cell_type": "code",
   "execution_count": 155,
   "id": "39353284",
   "metadata": {},
   "outputs": [
    {
     "name": "stdout",
     "output_type": "stream",
     "text": [
      "Processing patient: Patient_1\n"
     ]
    },
    {
     "data": {
      "image/png": "[encoded data removed]",
      "text/plain": [
       "<Figure size 432x288 with 1 Axes>"
      ]
     },
     "metadata": {
      "needs_background": "light"
     },
     "output_type": "display_data"
    },
    {
     "name": "stdout",
     "output_type": "stream",
     "text": [
      "Processing patient: Therapist_1\n"
     ]
    },
    {
     "data": {
      "image/png": "[encoded data removed]",
      "text/plain": [
       "<Figure size 432x288 with 1 Axes>"
      ]
     },
     "metadata": {
      "needs_background": "light"
     },
     "output_type": "display_data"
    },
    {
     "name": "stdout",
     "output_type": "stream",
     "text": [
      "Processing patient: Therapist_2\n"
     ]
    },
    {
     "data": {
      "image/png": "[encoded data removed]",
      "text/plain": [
       "<Figure size 432x288 with 1 Axes>"
      ]
     },
     "metadata": {
      "needs_background": "light"
     },
     "output_type": "display_data"
    }
   ],
   "source": [
    "# Code for Multi-Class Pose Clustering\n",
    "\n",
    "# Choose number of clusters (e.g., 3: Standing, Sitting, Lying)\n",
    "N_CLUSTERS = 4\n",
    "\n",
    "# Store all results\n",
    "all_clustered_data = []\n",
    "\n",
    "for patient_id in joint_positions['Patient'].unique():\n",
    "    print(f\"Processing patient: {patient_id}\")\n",
    "    \n",
    "    df_patient = joint_positions[joint_positions['Patient'] == patient_id]\n",
    "\n",
    "    # Pivot X and Y\n",
    "    df_pivot_x = df_patient.pivot_table(index='Frame', columns='Joint', values='X')\n",
    "    df_pivot_y = df_patient.pivot_table(index='Frame', columns='Joint', values='Y')\n",
    "\n",
    "    # Combine X and Y\n",
    "    df_features = pd.concat([\n",
    "        df_pivot_x.add_prefix('X_'),\n",
    "        df_pivot_y.add_prefix('Y_')\n",
    "    ], axis=1).dropna()\n",
    "\n",
    "    if df_features.empty:\n",
    "        print(f\"  - Skipping {patient_id}, not enough data.\")\n",
    "        continue\n",
    "\n",
    "    # PCA projection for visualization\n",
    "    pca = PCA(n_components=2)\n",
    "    pca_proj = pca.fit_transform(df_features)\n",
    "\n",
    "    # KMeans clustering\n",
    "    kmeans = KMeans(n_clusters=N_CLUSTERS, random_state=42)\n",
    "    df_features['Cluster'] = kmeans.fit_predict(df_features)\n",
    "\n",
    "    # Use only Y to determine pose height (for interpretation)\n",
    "    y_only = df_pivot_y.loc[df_features.index]\n",
    "    y_only['Cluster'] = df_features['Cluster']\n",
    "    cluster_y_means = y_only.groupby('Cluster').mean().mean(axis=1)\n",
    "\n",
    "    # Sort clusters by Y (lower Y = higher body = standing)\n",
    "    sorted_clusters = cluster_y_means.sort_values().index.tolist()\n",
    "\n",
    "    # Map sorted clusters to poses\n",
    "    sorted_clusters = cluster_y_means.sort_values().index.tolist()\n",
    "    pose_names = ['Standing', 'Sitting', 'Lying', 'Unknown']\n",
    "    cluster_to_pose = {cluster: pose for cluster, pose in zip(sorted_clusters, pose_names)}\n",
    "\n",
    "\n",
    "    # Assign pose labels\n",
    "    df_features['Pose'] = df_features['Cluster'].map(cluster_to_pose)\n",
    "    df_features['Patient'] = patient_id\n",
    "    df_features['Frame'] = df_features.index\n",
    "\n",
    "    all_clustered_data.append(df_features.reset_index(drop=True))\n",
    "\n",
    "    # Optional PCA plot\n",
    "    plt.figure(figsize=(6, 4))\n",
    "    plt.scatter(pca_proj[:, 0], pca_proj[:, 1], c=df_features['Cluster'], cmap='coolwarm', s=10)\n",
    "    plt.title(f'PCA Projection - {patient_id}')\n",
    "    plt.xlabel('PC1')\n",
    "    plt.ylabel('PC2')\n",
    "    plt.show()\n"
   ]
  },
  {
   "cell_type": "code",
   "execution_count": 156,
   "id": "0c267956",
   "metadata": {},
   "outputs": [],
   "source": [
    "# Combine all\n",
    "pose_clusters_all = pd.concat(all_clustered_data, ignore_index=True)\n",
    "\n",
    "# Keep columns to merge\n",
    "pose_assignments = pose_clusters_all[['Patient', 'Frame', 'Pose', 'Cluster']]\n",
    "\n",
    "# Merge\n",
    "joint_positions_with_pose = joint_positions.merge(\n",
    "    pose_assignments,\n",
    "    on=['Patient', 'Frame'],\n",
    "    how='left'\n",
    ")\n"
   ]
  },
  {
   "cell_type": "code",
   "execution_count": 157,
   "id": "8c48f699",
   "metadata": {},
   "outputs": [
    {
     "data": {
      "image/png": "[encoded data removed]",
      "text/plain": [
       "<Figure size 720x432 with 1 Axes>"
      ]
     },
     "metadata": {
      "needs_background": "light"
     },
     "output_type": "display_data"
    }
   ],
   "source": [
    "plt.figure(figsize=(10, 6))\n",
    "sns.countplot(data=joint_positions_with_pose, x='Patient', hue='Pose')\n",
    "plt.title(\"Pose Distribution per Object\")\n",
    "plt.ylabel(\"Number of Frames\")\n",
    "plt.xlabel(\"Object\")\n",
    "plt.xticks(rotation=45)\n",
    "plt.legend(title='Pose')\n",
    "plt.tight_layout()\n",
    "plt.show()\n"
   ]
  },
  {
   "cell_type": "code",
   "execution_count": 158,
   "id": "99505b28",
   "metadata": {},
   "outputs": [
    {
     "data": {
      "image/png": "[encoded data removed]",
      "text/plain": [
       "<Figure size 576x360 with 1 Axes>"
      ]
     },
     "metadata": {
      "needs_background": "light"
     },
     "output_type": "display_data"
    }
   ],
   "source": [
    "pose_counts = joint_positions_with_pose['Pose'].value_counts(dropna=False)\n",
    "\n",
    "plt.figure(figsize=(8, 5))\n",
    "pose_counts.plot(kind='bar', color='skyblue')\n",
    "plt.title('Pose Distribution')\n",
    "plt.xlabel('Pose')\n",
    "plt.ylabel('Count')\n",
    "plt.xticks(rotation=45)\n",
    "plt.grid(axis='y', linestyle='--', alpha=0.7)\n",
    "plt.show()"
   ]
  },
  {
   "cell_type": "code",
   "execution_count": 159,
   "id": "6ecc753a",
   "metadata": {},
   "outputs": [
    {
     "name": "stdout",
     "output_type": "stream",
     "text": [
      "Cluster to Pose Mapping:\n",
      "Cluster 0 → Pose: Standing\n",
      "Cluster 1 → Pose: Sitting\n",
      "Cluster 2 → Pose: Lying\n",
      "Cluster 3 → Pose: Leaning\n",
      "Mean Y coordinate per cluster:\n",
      "Cluster\n",
      "0    213.592569\n",
      "1    253.291987\n",
      "2    260.341761\n",
      "3    155.013131\n",
      "Name: Mean_Y, dtype: float64\n"
     ]
    },
    {
     "data": {
      "image/png": "[encoded data removed]",
      "text/plain": [
       "<Figure size 432x288 with 1 Axes>"
      ]
     },
     "metadata": {
      "needs_background": "light"
     },
     "output_type": "display_data"
    }
   ],
   "source": [
    "cluster_to_pose = {\n",
    "    0: 'Standing',\n",
    "    1: 'Sitting',\n",
    "    2: 'Lying',\n",
    "    3: 'Leaning'\n",
    "}\n",
    "print(\"Cluster to Pose Mapping:\")\n",
    "for cluster, pose in cluster_to_pose.items():\n",
    "    print(f\"Cluster {cluster} → Pose: {pose}\")\n",
    "\n",
    "# Calculate mean Y values per cluster for all joints that start with 'Y_'\n",
    "mean_y_per_cluster = pose_clusters_all.groupby('Cluster').mean(numeric_only=True).filter(like='Y_')\n",
    "\n",
    "# Calculate overall mean vertical position per cluster (averaging all Y_ joints)\n",
    "mean_y_per_cluster['Mean_Y'] = mean_y_per_cluster.mean(axis=1)\n",
    "\n",
    "print(\"Mean Y coordinate per cluster:\")\n",
    "print(mean_y_per_cluster['Mean_Y'])\n",
    "\n",
    "# Plot mean Y per cluster\n",
    "mean_y_per_cluster['Mean_Y'].plot(kind='bar', color='skyblue')\n",
    "plt.title('Average Vertical (Y) Position per Cluster')\n",
    "plt.xlabel('Cluster')\n",
    "plt.ylabel('Mean Y Coordinate (Vertical Position)')\n",
    "plt.show()\n"
   ]
  },
  {
   "cell_type": "code",
   "execution_count": null,
   "id": "89a02593",
   "metadata": {},
   "outputs": [],
   "source": []
  }
 ],
 "metadata": {
  "kernelspec": {
   "display_name": "Python 3 (ipykernel)",
   "language": "python",
   "name": "python3"
  },
  "language_info": {
   "codemirror_mode": {
    "name": "ipython",
    "version": 3
   },
   "file_extension": ".py",
   "mimetype": "text/x-python",
   "name": "python",
   "nbconvert_exporter": "python",
   "pygments_lexer": "ipython3",
   "version": "3.10.12"
  }
 },
 "nbformat": 4,
 "nbformat_minor": 5
}
